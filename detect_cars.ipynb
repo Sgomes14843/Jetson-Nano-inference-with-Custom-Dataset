{
 "cells": [
  {
   "cell_type": "markdown",
   "metadata": {},
   "source": [
    "# Image"
   ]
  },
  {
   "cell_type": "code",
   "execution_count": null,
   "metadata": {},
   "outputs": [],
   "source": [
    "from vision.ssd.vgg_ssd import create_vgg_ssd, create_vgg_ssd_predictor\n",
    "from vision.ssd.mobilenetv1_ssd import create_mobilenetv1_ssd, create_mobilenetv1_ssd_predictor\n",
    "from vision.ssd.mobilenetv1_ssd_lite import create_mobilenetv1_ssd_lite, create_mobilenetv1_ssd_lite_predictor\n",
    "from vision.ssd.squeezenet_ssd_lite import create_squeezenet_ssd_lite, create_squeezenet_ssd_lite_predictor\n",
    "from vision.ssd.mobilenet_v2_ssd_lite import create_mobilenetv2_ssd_lite, create_mobilenetv2_ssd_lite_predictor\n",
    "from vision.utils.misc import Timer\n",
    "import cv2\n",
    "import sys\n",
    "import numpy as np"
   ]
  },
  {
   "cell_type": "code",
   "execution_count": null,
   "metadata": {},
   "outputs": [],
   "source": [
    "net_type = 'mb1-ssd'\n",
    "model_path = './models/carspls/mb1-ssd-Epoch-537-Loss-0.664390986164411.pth'\n",
    "label_path = './models/carspls/labels.txt'\n",
    "image_path = './lando-norris-mclaren-mcl35m-1.png'\n",
    "class_names = [name.strip() for name in open(label_path).readlines()]"
   ]
  },
  {
   "cell_type": "code",
   "execution_count": null,
   "metadata": {},
   "outputs": [],
   "source": [
    "\n",
    "if net_type == 'mb1-ssd':\n",
    "    net = create_mobilenetv1_ssd(len(class_names), is_test=True)\n",
    "else:\n",
    "    print(\"The net type is wrong\")\n",
    "    sys.exit(1)\n",
    "net.load(model_path)\n",
    "\n",
    "if net_type == 'mb1-ssd':\n",
    "    predictor = create_mobilenetv1_ssd_predictor(net, candidate_size=200)\n",
    "else:\n",
    "    predictor = create_vgg_ssd_predictor(net, candidate_size=200)"
   ]
  },
  {
   "cell_type": "code",
   "execution_count": null,
   "metadata": {},
   "outputs": [],
   "source": [
    "\n",
    "orig_image = cv2.imread(image_path)\n",
    "image = cv2.imdecode(np.fromfile(image_path, dtype=np.uint8), -1)\n",
    "boxes, labels, probs = predictor.predict(image, 10, 0.4)"
   ]
  },
  {
   "cell_type": "code",
   "execution_count": null,
   "metadata": {},
   "outputs": [],
   "source": [
    "for i in range(boxes.size(0)):\n",
    "    box = boxes[i, :]\n",
    "    cv2.rectangle(orig_image, (int(box[0]), int(box[1])), (int(box[2]), int(box[3])), (255, 255, 0), 4)\n",
    "    label = f\"{class_names[labels[i]]}: {probs[i]:.2f}\"\n",
    "    cv2.putText(orig_image, label,\n",
    "                (int(box[0]) + 20, int(box[1]) + 40),\n",
    "                cv2.FONT_HERSHEY_SIMPLEX,\n",
    "                1,  # font scale\n",
    "                (255, 0, 255),\n",
    "                2)  # line type\n",
    "path = \"./images_result.jpg\"\n",
    "cv2.imwrite(path, orig_image)\n",
    "print(f\"Found {len(probs)} objects. The output image is {path}\")"
   ]
  },
  {
   "cell_type": "markdown",
   "metadata": {},
   "source": [
    "## Image  - own function"
   ]
  },
  {
   "cell_type": "code",
   "execution_count": null,
   "metadata": {},
   "outputs": [],
   "source": [
    "import functions as fct\n",
    "net_type = 'mb1-ssd'\n",
    "model_path = './models/carspls/mb1-ssd-Epoch-537-Loss-0.664390986164411.pth'\n",
    "label_path = './models/carspls/labels.txt'\n",
    "image_path = './lando-norris-mclaren-mcl35m-1.png'\n",
    "class_names = [name.strip() for name in open(label_path).readlines()]\n",
    "fct.predict_image(net_type, model_path, label_path, image_path, './output_image.jpg')"
   ]
  },
  {
   "cell_type": "markdown",
   "metadata": {},
   "source": [
    "# Video"
   ]
  },
  {
   "cell_type": "code",
   "execution_count": null,
   "metadata": {},
   "outputs": [],
   "source": [
    "from vision.ssd.vgg_ssd import create_vgg_ssd, create_vgg_ssd_predictor\n",
    "from vision.ssd.mobilenetv1_ssd import create_mobilenetv1_ssd, create_mobilenetv1_ssd_predictor\n",
    "from vision.ssd.mobilenetv1_ssd_lite import create_mobilenetv1_ssd_lite, create_mobilenetv1_ssd_lite_predictor\n",
    "from vision.ssd.squeezenet_ssd_lite import create_squeezenet_ssd_lite, create_squeezenet_ssd_lite_predictor\n",
    "from vision.ssd.mobilenet_v2_ssd_lite import create_mobilenetv2_ssd_lite, create_mobilenetv2_ssd_lite_predictor\n",
    "from vision.utils.misc import Timer\n",
    "import cv2\n",
    "import sys"
   ]
  },
  {
   "cell_type": "code",
   "execution_count": null,
   "metadata": {},
   "outputs": [],
   "source": [
    "net_type = 'mb1-ssd'\n",
    "model_path = './models/carspls/mb1-ssd-Epoch-537-Loss-0.664390986164411.pth'\n",
    "label_path = './models/carspls/labels.txt'\n",
    "video_file = './Screencast from 23.05.2024 21_30_33.mp4'"
   ]
  },
  {
   "cell_type": "code",
   "execution_count": null,
   "metadata": {},
   "outputs": [],
   "source": [
    "cap = cv2.VideoCapture(video_file)  # capture from file\n",
    "class_names = [name.strip() for name in open(label_path).readlines()]\n",
    "num_classes = len(class_names)\n",
    "# Check if camera opened successfully\n",
    "if (cap.isOpened()== False): \n",
    "  print(\"Error opening video stream or file\")"
   ]
  },
  {
   "cell_type": "code",
   "execution_count": null,
   "metadata": {},
   "outputs": [],
   "source": [
    "if net_type == 'mb1-ssd':\n",
    "    net = create_mobilenetv1_ssd(len(class_names), is_test=True)\n",
    "else:\n",
    "    print(\"The net type is wrong\")\n",
    "    sys.exit(1)\n",
    "net.load(model_path)\n",
    "\n",
    "if net_type == 'mb1-ssd':\n",
    "    predictor = create_mobilenetv1_ssd_predictor(net, candidate_size=200)\n",
    "else:\n",
    "    print(\"The net type is wrong. It should be one of vgg16-ssd, mb1-ssd and mb1-ssd-lite.\")\n",
    "    sys.exit(1)"
   ]
  },
  {
   "cell_type": "code",
   "execution_count": null,
   "metadata": {},
   "outputs": [],
   "source": [
    "timer = Timer()\n",
    "width = int(cap.get(3))\n",
    "height = int(cap.get(4))\n",
    "fps2 = cap.get(cv2.CAP_PROP_FPS)\n",
    "fourcc = cv2.VideoWriter_fourcc(*'mp4v')\n",
    "out = cv2.VideoWriter('output.mp4',fourcc, fps2, (width,height))"
   ]
  },
  {
   "cell_type": "code",
   "execution_count": null,
   "metadata": {},
   "outputs": [],
   "source": [
    "while True:\n",
    "    ret, orig_image = cap.read()\n",
    "    if orig_image is None:\n",
    "        continue\n",
    "    while(ret):\n",
    "        image = cv2.cvtColor(orig_image, cv2.COLOR_BGR2RGB)\n",
    "        timer.start()\n",
    "        boxes, labels, probs = predictor.predict(image, 10, 0.7)\n",
    "        interval = timer.end()\n",
    "        print('Time: {:.2f}s, Detect Objects: {:d}.'.format(interval, labels.size(0)))\n",
    "        for i in range(boxes.size(0)):\n",
    "            box = boxes[i, :]\n",
    "            label = f\"{class_names[labels[i]]}: {probs[i]:.2f}\"\n",
    "            cv2.rectangle(orig_image, (int(box[0]), int(box[1])), (int(box[2]), int(box[3])), (255, 255, 0), 4)\n",
    "            \n",
    "            cv2.putText(orig_image, label,\n",
    "                        (int(box[0])+20, int(box[1])+40),\n",
    "                        cv2.FONT_HERSHEY_SIMPLEX,\n",
    "                        1,  # font scale\n",
    "                        (255, 0, 255),\n",
    "                        2)  # line type\n",
    "        # cv2.imshow('video', orig_image)\n",
    "        out.write(orig_image)\n",
    "        fps = cap.get(cv2.CAP_PROP_FPS)\n",
    "        print ('FPS : {0}'.format(fps))\n",
    "        if cv2.waitKey(1) & 0xFF == ord('q'):\n",
    "            break\n",
    "        ret, orig_image = cap.read()\n",
    "    break\n",
    "cap.release()\n",
    "out.release()\n",
    "cv2.destroyAllWindows()"
   ]
  },
  {
   "cell_type": "markdown",
   "metadata": {},
   "source": [
    "## Video  - own function"
   ]
  },
  {
   "cell_type": "code",
   "execution_count": null,
   "metadata": {},
   "outputs": [],
   "source": [
    "import functions as fct\n",
    "net_type = 'mb1-ssd'\n",
    "model_path = './models/carspls/mb1-ssd-Epoch-537-Loss-0.664390986164411.pth'\n",
    "label_path = './models/carspls/labels.txt'\n",
    "video_file = './Screencast from 23.05.2024 21_30_33.mp4'\n",
    "fct.predict_video(net_type, model_path, label_path, video_file, './output.mp4')"
   ]
  }
 ],
 "metadata": {
  "kernelspec": {
   "display_name": ".venv",
   "language": "python",
   "name": "python3"
  },
  "language_info": {
   "codemirror_mode": {
    "name": "ipython",
    "version": 3
   },
   "file_extension": ".py",
   "mimetype": "text/x-python",
   "name": "python",
   "nbconvert_exporter": "python",
   "pygments_lexer": "ipython3",
   "version": "3.10.12"
  }
 },
 "nbformat": 4,
 "nbformat_minor": 2
}
